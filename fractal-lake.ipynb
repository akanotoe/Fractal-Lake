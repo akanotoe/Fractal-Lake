{
 "cells": [
  {
   "cell_type": "markdown",
   "metadata": {},
   "source": [
    "# Fractal Lake\n",
    "This Jupyter notebook performs a box-counting method to determine the fractal dimension of Crater Lake, a caldera lake in the state of Oregon."
   ]
  },
  {
   "cell_type": "code",
   "execution_count": 1,
   "metadata": {},
   "outputs": [],
   "source": [
    "import numpy as np\n",
    "# from scipy.interpolate import interp1d\n",
    "from scipy.stats import linregress\n",
    "import matplotlib.pyplot as plt\n",
    "%matplotlib inline"
   ]
  },
  {
   "cell_type": "code",
   "execution_count": 2,
   "metadata": {},
   "outputs": [],
   "source": [
    "# This cell makes the text in plots the same as LaTeX\n",
    "plt.rc('text', usetex=True)\n",
    "plt.rc('font', family='serif', size='14')"
   ]
  },
  {
   "cell_type": "markdown",
   "metadata": {},
   "source": [
    "This cell imports the latitude and longitude coordinates of many coastal points of Crater Lake."
   ]
  },
  {
   "cell_type": "code",
   "execution_count": 3,
   "metadata": {},
   "outputs": [],
   "source": [
    "x,y = np.genfromtxt('craterlakeclippedfinal.dat').transpose()"
   ]
  },
  {
   "cell_type": "markdown",
   "metadata": {},
   "source": [
    "The function below sets up and counts the boxes for the box-counting method."
   ]
  },
  {
   "cell_type": "code",
   "execution_count": 4,
   "metadata": {},
   "outputs": [],
   "source": [
    "def box(x, y, i):\n",
    "    xmin = min(x)\n",
    "    xmax = max(x)\n",
    "    yavg = (max(y) + min(y))/2.\n",
    "    ymin = yavg - (xmax - xmin)/2.\n",
    "    ymax = yavg + (xmax - xmin)/2.\n",
    "    test = 0\n",
    "    N = 0\n",
    "#   Box setup\n",
    "    boxlength = (xmax - xmin)/i\n",
    "    boxminy = ymin\n",
    "    boxmaxy = ymin + boxlength\n",
    "#   Box counting starts here:\n",
    "    while boxmaxy <= ymax:\n",
    "        boxminx = xmin\n",
    "        boxmaxx = xmin + boxlength\n",
    "        while boxmaxx <= xmax:\n",
    "            k = 0\n",
    "            while k < len(x):\n",
    "                if y[k] <= boxmaxy and y[k] >= boxminy and x[k] <= boxmaxx and x[k] >= boxminx:\n",
    "                    test = 1\n",
    "                k = k + 1\n",
    "            if test == 1:\n",
    "                N = N + 1\n",
    "            test = 0\n",
    "#           Shift box up in x\n",
    "            boxminx=boxmaxx\n",
    "            boxmaxx=boxminx+boxlength\n",
    "        boxminy=boxmaxy\n",
    "        boxmaxy=boxminy+boxlength\n",
    "    return N"
   ]
  },
  {
   "cell_type": "markdown",
   "metadata": {},
   "source": [
    "The next cell chooses a series of scale factors, performs the box counting method for those scale factors, and collects the number of boxes that the coastline occupies."
   ]
  },
  {
   "cell_type": "code",
   "execution_count": 5,
   "metadata": {},
   "outputs": [
    {
     "data": {
      "text/plain": [
       "array([  4.,   8.,  21.,  31.,  48.,  65.,  74., 102., 139., 222., 262.])"
      ]
     },
     "execution_count": 5,
     "metadata": {},
     "output_type": "execute_result"
    }
   ],
   "source": [
    "ilist = np.array([2, 4, 8, 12, 16, 20, 24, 32, 42, 64, 72])\n",
    "Nlist = []\n",
    "for i in ilist:\n",
    "    N = box(x,y,i)\n",
    "    Nlist = np.append(Nlist, N)\n",
    "Nlist"
   ]
  },
  {
   "cell_type": "code",
   "execution_count": 6,
   "metadata": {
    "scrolled": true
   },
   "outputs": [
    {
     "data": {
      "text/plain": [
       "array([1.        , 0.5       , 0.328125  , 0.21527778, 0.1875    ,\n",
       "       0.1625    , 0.12847222, 0.09960938, 0.07879819, 0.05419922,\n",
       "       0.05054012])"
      ]
     },
     "execution_count": 6,
     "metadata": {},
     "output_type": "execute_result"
    }
   ],
   "source": [
    "Nlist/np.array(ilist)**2"
   ]
  },
  {
   "cell_type": "code",
   "execution_count": 7,
   "metadata": {},
   "outputs": [
    {
     "data": {
      "text/plain": [
       "(1.1774551669001352,\n",
       " 0.5503163358047094,\n",
       " 0.9991351247094705,\n",
       " 0.016334156706436665)"
      ]
     },
     "execution_count": 7,
     "metadata": {},
     "output_type": "execute_result"
    }
   ],
   "source": [
    "m, b, rval, pval, stderr = linregress(np.log(ilist), np.log(Nlist))\n",
    "m, b, rval, stderr"
   ]
  },
  {
   "cell_type": "markdown",
   "metadata": {},
   "source": [
    "This cell performs a linear fit to $\\ln N$ vs. $\\ln s$; the slope (assigned to `m`) is the fractal dimension."
   ]
  },
  {
   "cell_type": "code",
   "execution_count": 8,
   "metadata": {},
   "outputs": [
    {
     "data": {
      "text/plain": [
       "(array([1.17745517, 0.55031634]),\n",
       " array([0.0301852]),\n",
       " 2,\n",
       " array([1.39134945, 0.25327203]),\n",
       " 2.4424906541753444e-15)"
      ]
     },
     "execution_count": 8,
     "metadata": {},
     "output_type": "execute_result"
    }
   ],
   "source": [
    "m, b = np.polyfit(np.log(ilist), np.log(Nlist), 1)\n",
    "np.polyfit(np.log(ilist), np.log(Nlist), 1, full=True)"
   ]
  },
  {
   "cell_type": "markdown",
   "metadata": {},
   "source": [
    "The linear regression is plotted on a log-log scale."
   ]
  },
  {
   "cell_type": "code",
   "execution_count": 18,
   "metadata": {},
   "outputs": [
    {
     "data": {
      "text/plain": [
       "<matplotlib.legend.Legend at 0x29ff6591430>"
      ]
     },
     "execution_count": 18,
     "metadata": {},
     "output_type": "execute_result"
    },
    {
     "data": {
      "image/png": "[encoded data removed]",
      "text/plain": [
       "<Figure size 432x288 with 1 Axes>"
      ]
     },
     "metadata": {
      "needs_background": "light"
     },
     "output_type": "display_data"
    }
   ],
   "source": [
    "plt.loglog(ilist, np.exp(b) * ilist**m, color='#b8860b')\n",
    "plt.loglog(ilist, Nlist, 'k.', label='_nolegend_')\n",
    "plt.xlabel('$s$')\n",
    "plt.ylabel('$N$')\n",
    "plt.legend(['$N = %.2f s^{%.2f}$' % (np.exp(b), m), None])"
   ]
  },
  {
   "cell_type": "code",
   "execution_count": 12,
   "metadata": {},
   "outputs": [
    {
     "data": {
      "text/plain": [
       "<matplotlib.legend.Legend at 0x29ff50963d0>"
      ]
     },
     "execution_count": 12,
     "metadata": {},
     "output_type": "execute_result"
    },
    {
     "data": {
      "image/png": "[encoded data removed]",
      "text/plain": [
       "<Figure size 432x288 with 1 Axes>"
      ]
     },
     "metadata": {
      "needs_background": "light"
     },
     "output_type": "display_data"
    }
   ],
   "source": [
    "plt.plot(np.log(ilist), m*np.log(ilist) + b, color='#b8860b')\n",
    "plt.plot(np.log(ilist), np.log(Nlist), 'k.', label='_nolegend_')\n",
    "plt.xlabel('$\\\\ln s$')\n",
    "plt.ylabel('$\\\\ln N$')\n",
    "plt.legend(['$y = %0.2f x + %0.2f$' % (m,b), None])"
   ]
  },
  {
   "cell_type": "code",
   "execution_count": 10,
   "metadata": {},
   "outputs": [
    {
     "data": {
      "text/plain": [
       "Text(0, 0.5, 'Latitude ($^\\\\circ$)')"
      ]
     },
     "execution_count": 10,
     "metadata": {},
     "output_type": "execute_result"
    },
    {
     "data": {
      "image/png": "[encoded data removed]",
      "text/plain": [
       "<Figure size 360x360 with 1 Axes>"
      ]
     },
     "metadata": {
      "needs_background": "light"
     },
     "output_type": "display_data"
    }
   ],
   "source": [
    "xmid = (min(x) + max(x))/2\n",
    "xhalflen = (max(x) - min(x))/2\n",
    "ymid = (max(y) + min(y))/2\n",
    "plt.figure(figsize=(5,5))\n",
    "plt.plot(x, y, 'k.')\n",
    "plt.xlim([xmid - 1.1*xhalflen, xmid + 1.1*xhalflen])\n",
    "plt.ylim([ymid - 1.1*xhalflen*np.sin(ymid*np.pi/180), ymid + 1.1*xhalflen*np.sin(ymid*np.pi/180)])\n",
    "plt.xlabel('Longitude ($^\\circ$)')\n",
    "plt.ylabel('Latitude ($^\\circ$)')\n",
    "# plt.savefig('crater-lake-pts.svg')"
   ]
  },
  {
   "cell_type": "code",
   "execution_count": null,
   "metadata": {},
   "outputs": [],
   "source": []
  }
 ],
 "metadata": {
  "kernelspec": {
   "display_name": "Python 3",
   "language": "python",
   "name": "python3"
  },
  "language_info": {
   "codemirror_mode": {
    "name": "ipython",
    "version": 3
   },
   "file_extension": ".py",
   "mimetype": "text/x-python",
   "name": "python",
   "nbconvert_exporter": "python",
   "pygments_lexer": "ipython3",
   "version": "3.8.1"
  }
 },
 "nbformat": 4,
 "nbformat_minor": 4
}
